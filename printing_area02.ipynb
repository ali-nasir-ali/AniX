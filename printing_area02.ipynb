{
  "nbformat": 4,
  "nbformat_minor": 0,
  "metadata": {
    "colab": {
      "name": "printing-float-02.ipynb",
      "provenance": [],
      "authorship_tag": "ABX9TyM2/WB/2fZ5tX91Tr/RmCnY",
      "include_colab_link": true
    },
    "kernelspec": {
      "name": "python3",
      "display_name": "Python 3"
    }
  },
  "cells": [
    {
      "cell_type": "markdown",
      "metadata": {
        "id": "view-in-github",
        "colab_type": "text"
      },
      "source": [
        "<a href=\"https://colab.research.google.com/github/anasir514/AniX/blob/master/printing_area02.ipynb\" target=\"_parent\"><img src=\"https://colab.research.google.com/assets/colab-badge.svg\" alt=\"Open In Colab\"/></a>"
      ]
    },
    {
      "cell_type": "code",
      "metadata": {
        "colab": {
          "base_uri": "https://localhost:8080/"
        },
        "id": "atcqoS_Yl9Dj",
        "outputId": "ac7fc4cd-3359-4d30-c2ed-db4e785b9e62"
      },
      "source": [
        "#A = π r²\n",
        "\n",
        "r = 5\n",
        "pi = 3.14\n",
        "a = 3.14 * r**2\n",
        "print({area:.1f})\n",
        "# or\n",
        "pi = 3.14\n",
        "radius = 5\n",
        "area = pi * radius ** 2\n",
        "print(f'Area: {area:.1f} in2')"
      ],
      "execution_count": 27,
      "outputs": [
        {
          "output_type": "stream",
          "text": [
            "78.5\n"
          ],
          "name": "stdout"
        }
      ]
    }
  ]
}